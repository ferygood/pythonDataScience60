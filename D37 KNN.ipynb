{
 "cells": [
  {
   "cell_type": "markdown",
   "metadata": {},
   "source": [
    "作業\n",
    "在鐵達尼資料集中， 透過進階補值方法 KNN，將鐵達尼號中的 Titanic_train .csv 中的 age 的遺失值進行補值。\n",
    "\n",
    "step1: 觀察 Age 和 Pclass 與 Sex 是否有關連性?\n",
    "step2: 如果有關連性，運用 KNN ，取出 Age 、 Pclass、 Sex的資料，以 Sex 與 Pclass 補 Age 遺失值。"
   ]
  },
  {
   "cell_type": "code",
   "execution_count": 1,
   "metadata": {},
   "outputs": [],
   "source": [
    "import pandas as pd\n",
    "import numpy as np\n",
    "from sklearn import preprocessing, impute\n",
    "from sklearn.metrics.pairwise import nan_euclidean_distances\n",
    "import seaborn as sns"
   ]
  },
  {
   "cell_type": "code",
   "execution_count": 2,
   "metadata": {},
   "outputs": [],
   "source": [
    "df = pd.read_csv(\"titanic/Titanic_train.csv\")"
   ]
  },
  {
   "cell_type": "code",
   "execution_count": 3,
   "metadata": {},
   "outputs": [
    {
     "name": "stdout",
     "output_type": "stream",
     "text": [
      "缺失值比例：\n",
      "Age       0.198653\n",
      "Pclass    0.000000\n",
      "Sex       0.000000\n",
      "dtype: float64\n",
      "\n",
      "    Age  Pclass     Sex\n",
      "0  22.0       3    male\n",
      "1  38.0       1  female\n",
      "2  26.0       3  female\n",
      "3  35.0       1  female\n",
      "4  35.0       3    male\n",
      "    Age  Pclass  Sex\n",
      "0  22.0       3    1\n",
      "1  38.0       1    0\n",
      "2  26.0       3    0\n",
      "3  35.0       1    0\n",
      "4  35.0       3    1\n"
     ]
    },
    {
     "data": {
      "text/plain": [
       "<seaborn.axisgrid.FacetGrid at 0x7ffa6f87b210>"
      ]
     },
     "execution_count": 3,
     "metadata": {},
     "output_type": "execute_result"
    },
    {
     "data": {
      "image/png": "[encoded data removed]",
      "text/plain": [
       "<Figure size 402.375x360 with 1 Axes>"
      ]
     },
     "metadata": {
      "needs_background": "light"
     },
     "output_type": "display_data"
    }
   ],
   "source": [
    "# 1.觀察 Age, Pclass 與 Sex 是否有關聯性？\n",
    "df1 = df.loc[:,[\"Age\", \"Pclass\", \"Sex\"]]\n",
    "\n",
    "# 檢查缺失值的比例\n",
    "missing_vals = df1.isnull().sum()/len(df1)\n",
    "print(\"缺失值比例：\")\n",
    "print(missing_vals)\n",
    "print()\n",
    "\n",
    "# 下面兩行程式，讓 Male=1, Female=0\n",
    "print(df1.head())\n",
    "le = preprocessing.LabelEncoder()\n",
    "df1[\"Sex\"] = le.fit_transform(df1[\"Sex\"])\n",
    "print(df1.head())\n",
    "\n",
    "sns.catplot(x=\"Pclass\", y=\"Age\", hue=\"Sex\", data=df1, kind=\"box\")"
   ]
  },
  {
   "cell_type": "code",
   "execution_count": 4,
   "metadata": {},
   "outputs": [
    {
     "name": "stdout",
     "output_type": "stream",
     "text": [
      "    Age  Pclass  Sex\n",
      "5   NaN       3    1\n",
      "17  NaN       2    1\n",
      "19  NaN       3    0\n",
      "26  NaN       3    1\n",
      "28  NaN       3    0\n",
      "          Age  Pclass  Sex\n",
      "5   19.666667     3.0  1.0\n",
      "17  45.000000     2.0  1.0\n",
      "19  19.000000     3.0  0.0\n",
      "26  19.666667     3.0  1.0\n",
      "28  19.000000     3.0  0.0\n"
     ]
    }
   ],
   "source": [
    "# 2 \n",
    "# 從 1 可以看出 Pclass, Age 的確和 Sex 有關係\n",
    "# 我們用 Sex, Pclass 來補 Age 的值\n",
    "\n",
    "imputer = impute.KNNImputer(n_neighbors=3)\n",
    "df1_filled = pd.DataFrame(imputer.fit_transform(df1), \n",
    "                          columns=[\"Age\", \"Pclass\", \"Sex\"])\n",
    "\n",
    "missing_index = df1.isnull()\n",
    "print(df1[missing_index.values==True].head())\n",
    "print(df1_filled[missing_index.values==True].head())"
   ]
  }
 ],
 "metadata": {
  "kernelspec": {
   "display_name": "Python 3",
   "language": "python",
   "name": "python3"
  },
  "language_info": {
   "codemirror_mode": {
    "name": "ipython",
    "version": 3
   },
   "file_extension": ".py",
   "mimetype": "text/x-python",
   "name": "python",
   "nbconvert_exporter": "python",
   "pygments_lexer": "ipython3",
   "version": "3.7.9"
  }
 },
 "nbformat": 4,
 "nbformat_minor": 4
}
