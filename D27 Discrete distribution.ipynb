{
 "cells": [
  {
   "cell_type": "markdown",
   "metadata": {},
   "source": [
    "作業:\n",
    "今天學到2種分配，包含，\n",
    "離散均勻分配( Discrete Uniform Distribution )\n",
    "伯努利分配( Bernoulli Distribution )\n",
    "\n",
    "今天我們透過作業中的問題，回想今天的內容吧!\n",
    "\n",
    "丟一個銅板，丟了100次，出現正面 50 次的機率有多大。\n",
    "(提示: 先想是哪一種分配，然後透過 python 語法進行計算)"
   ]
  },
  {
   "cell_type": "code",
   "execution_count": 5,
   "metadata": {},
   "outputs": [],
   "source": [
    "# 假設銅板是一枚公正銅板，只有正反面兩種可能，機率也是各 0.5，因此認為他是伯努力分配\n",
    "from scipy.stats import bernoulli\n",
    "import matplotlib.pyplot as plt\n",
    "import numpy as np"
   ]
  },
  {
   "cell_type": "code",
   "execution_count": 15,
   "metadata": {},
   "outputs": [
    {
     "name": "stdout",
     "output_type": "stream",
     "text": [
      "[1 1 1 1 1 1 1 0 0 1 0 0 1 1 0 0 1 1 0 0 0 0 0 0 0 0 0 1 0 0 0 0 0 0 1 1 0\n",
      " 1 1 0 1 0 1 1 0 0 0 1 0 1 1 1 0 0 1 1 1 1 0 1 0 0 1 1 0 1 0 1 0 0 1 0 1 1\n",
      " 1 0 0 0 0 1 1 1 1 0 0 1 1 0 1 1 0 1 1 1 0 0 0 1 0 0]\n",
      "49\n"
     ]
    }
   ],
   "source": [
    "# 而多次的\n",
    "p = 0.5\n",
    "r = np.arange(0,2)\n",
    "mean, var, skew, kurt = bernoulli.stats(p, moments=\"mvsk\")\n",
    "\n",
    "# 產生隨機樣本\n",
    "prob = bernoulli.pmf(k=1, p, )"
   ]
  },
  {
   "cell_type": "code",
   "execution_count": null,
   "metadata": {},
   "outputs": [],
   "source": []
  },
  {
   "cell_type": "code",
   "execution_count": 7,
   "metadata": {},
   "outputs": [
    {
     "data": {
      "text/plain": [
       "array([0, 1])"
      ]
     },
     "execution_count": 7,
     "metadata": {},
     "output_type": "execute_result"
    }
   ],
   "source": [
    "r"
   ]
  }
 ],
 "metadata": {
  "kernelspec": {
   "display_name": "Python 3",
   "language": "python",
   "name": "python3"
  },
  "language_info": {
   "codemirror_mode": {
    "name": "ipython",
    "version": 3
   },
   "file_extension": ".py",
   "mimetype": "text/x-python",
   "name": "python",
   "nbconvert_exporter": "python",
   "pygments_lexer": "ipython3",
   "version": "3.7.9"
  }
 },
 "nbformat": 4,
 "nbformat_minor": 4
}
