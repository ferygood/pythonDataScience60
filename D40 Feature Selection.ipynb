{
 "cells": [
  {
   "cell_type": "markdown",
   "metadata": {},
   "source": [
    "在鐵達尼資料集中，以Titanic_train.csv 中，首先將有遺失值的數值刪除，試著將課堂中所學的方法應用上去。\n",
    "\n",
    "Q1: 目標變數為 Survived，以 Pclass, Age, SibSp, Parch, Fare,Sex, Embarked 為特徵，試著用今天教授的包裝法，搭配課程所教的 SVC，試著排出其餘特徵的重要性。"
   ]
  },
  {
   "cell_type": "code",
   "execution_count": 1,
   "metadata": {},
   "outputs": [],
   "source": [
    "import pandas as pd\n",
    "import sklearn\n",
    "from sklearn.svm import SVC\n",
    "from sklearn.feature_selection import RFE"
   ]
  },
  {
   "cell_type": "code",
   "execution_count": 2,
   "metadata": {},
   "outputs": [
    {
     "name": "stdout",
     "output_type": "stream",
     "text": [
      "<class 'pandas.core.frame.DataFrame'>\n",
      "Int64Index: 712 entries, 0 to 890\n",
      "Data columns (total 8 columns):\n",
      "Survived    712 non-null int64\n",
      "Pclass      712 non-null int64\n",
      "Age         712 non-null float64\n",
      "SibSp       712 non-null int64\n",
      "Parch       712 non-null int64\n",
      "Fare        712 non-null float64\n",
      "Sex         712 non-null object\n",
      "Embarked    712 non-null object\n",
      "dtypes: float64(2), int64(4), object(2)\n",
      "memory usage: 50.1+ KB\n"
     ]
    }
   ],
   "source": [
    "titanic_train = pd.read_csv(\"titanic/Titanic_train.csv\")\n",
    "titanic_train = titanic_train[[\"Survived\", \"Pclass\", \"Age\", \"SibSp\", \"Parch\", \"Fare\",\n",
    "                              \"Sex\", \"Embarked\"]].dropna()\n",
    "titanic_train.info()"
   ]
  },
  {
   "cell_type": "code",
   "execution_count": 3,
   "metadata": {},
   "outputs": [],
   "source": [
    "titanic_train[\"Survived_cate\"] = titanic_train[\"Survived\"].astype(\"object\")\n",
    "\n",
    "# set independent(x) and dependent(y) variables\n",
    "x = titanic_train[[\"Pclass\", \"Age\", \"SibSp\", \"Parch\", \"Fare\",\"Sex\", \"Embarked\"]]\n",
    "y = titanic_train[[\"Survived\"]]"
   ]
  },
  {
   "cell_type": "code",
   "execution_count": 4,
   "metadata": {},
   "outputs": [
    {
     "name": "stdout",
     "output_type": "stream",
     "text": [
      "<class 'pandas.core.frame.DataFrame'>\n",
      "Int64Index: 712 entries, 0 to 890\n",
      "Data columns (total 7 columns):\n",
      "Pclass      712 non-null int64\n",
      "Age         712 non-null float64\n",
      "SibSp       712 non-null int64\n",
      "Parch       712 non-null int64\n",
      "Fare        712 non-null float64\n",
      "Sex         712 non-null int8\n",
      "Embarked    712 non-null int8\n",
      "dtypes: float64(2), int64(3), int8(2)\n",
      "memory usage: 34.8 KB\n",
      "None\n"
     ]
    },
    {
     "name": "stderr",
     "output_type": "stream",
     "text": [
      "/Users/yaochung41/anaconda3/lib/python3.7/site-packages/pandas/core/indexing.py:543: SettingWithCopyWarning: \n",
      "A value is trying to be set on a copy of a slice from a DataFrame.\n",
      "Try using .loc[row_indexer,col_indexer] = value instead\n",
      "\n",
      "See the caveats in the documentation: http://pandas.pydata.org/pandas-docs/stable/indexing.html#indexing-view-versus-copy\n",
      "  self.obj[item] = s\n",
      "/Users/yaochung41/anaconda3/lib/python3.7/site-packages/sklearn/utils/validation.py:760: DataConversionWarning: A column-vector y was passed when a 1d array was expected. Please change the shape of y to (n_samples, ), for example using ravel().\n",
      "  y = column_or_1d(y, warn=True)\n"
     ]
    },
    {
     "name": "stdout",
     "output_type": "stream",
     "text": [
      "[False False False False False  True False]\n",
      "[4 6 5 3 7 1 2]\n",
      "['Sex']\n"
     ]
    }
   ],
   "source": [
    "# 包裝法\n",
    "# 1 先把 string 改成 float\n",
    "x.loc[:,\"Sex\"] = x.loc[:,\"Sex\"].astype(\"category\").cat.codes\n",
    "x.loc[:,\"Embarked\"] = x.loc[:,\"Embarked\"].astype(\"category\").cat.codes\n",
    "print(x.info())\n",
    "\n",
    "# 2\n",
    "estimator = SVC(kernel=\"linear\")\n",
    "selector = RFE(estimator, n_features_to_select=1, step=1)\n",
    "selector = selector.fit(x, y)\n",
    "\n",
    "print(selector.support_) #True = selected feature\n",
    "\n",
    "ranking = selector.ranking_\n",
    "print(ranking) # feature importance\n",
    "\n",
    "rfe_feature = x.loc[:, selector.support_].columns.tolist()\n",
    "print(rfe_feature)"
   ]
  }
 ],
 "metadata": {
  "kernelspec": {
   "display_name": "Python 3",
   "language": "python",
   "name": "python3"
  },
  "language_info": {
   "codemirror_mode": {
    "name": "ipython",
    "version": 3
   },
   "file_extension": ".py",
   "mimetype": "text/x-python",
   "name": "python",
   "nbconvert_exporter": "python",
   "pygments_lexer": "ipython3",
   "version": "3.7.9"
  }
 },
 "nbformat": 4,
 "nbformat_minor": 4
}
