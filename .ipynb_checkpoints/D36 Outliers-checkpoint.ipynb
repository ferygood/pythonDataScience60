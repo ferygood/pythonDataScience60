{
 "cells": [
  {
   "cell_type": "markdown",
   "metadata": {},
   "source": [
    "作業\n",
    "在鐵達尼資料集中，\n",
    "可以用今天範例中提到的三種辨識異常值的方法，\n",
    "以 training data 為資料集。\n",
    "1.觀察票價是否有異常值的現象?\n",
    "2.你覺得找出的異常是真的異常? 你覺得需要做處理嗎?\n",
    "(試著講出自己的想法。)"
   ]
  },
  {
   "cell_type": "code",
   "execution_count": 1,
   "metadata": {},
   "outputs": [],
   "source": [
    "import pandas as pd\n",
    "import numpy as np\n",
    "import matplotlib.pyplot as plt\n",
    "import seaborn as sns"
   ]
  },
  {
   "cell_type": "code",
   "execution_count": 2,
   "metadata": {},
   "outputs": [],
   "source": [
    "df = pd.read_csv(\"titanic/Titanic_train.csv\")"
   ]
  },
  {
   "cell_type": "code",
   "execution_count": 3,
   "metadata": {},
   "outputs": [
    {
     "name": "stdout",
     "output_type": "stream",
     "text": [
      "count    891.000000\n",
      "mean      32.204208\n",
      "std       49.693429\n",
      "min        0.000000\n",
      "25%        7.910400\n",
      "50%       14.454200\n",
      "75%       31.000000\n",
      "max      512.329200\n",
      "Name: Fare, dtype: float64\n"
     ]
    },
    {
     "data": {
      "text/plain": [
       "<AxesSubplot:xlabel='Fare'>"
      ]
     },
     "execution_count": 3,
     "metadata": {},
     "output_type": "execute_result"
    },
    {
     "data": {
      "image/png": "[encoded data removed]",
      "text/plain": [
       "<Figure size 432x288 with 1 Axes>"
      ]
     },
     "metadata": {},
     "output_type": "display_data"
    }
   ],
   "source": [
    "#1 簡單統計方法\n",
    "print(df[\"Fare\"].describe())\n",
    "sns.set_theme(style=\"white\")\n",
    "sns.boxplot(x=\"Fare\", data=df)"
   ]
  },
  {
   "cell_type": "code",
   "execution_count": 4,
   "metadata": {},
   "outputs": [
    {
     "name": "stdout",
     "output_type": "stream",
     "text": [
      "(array([ 27,  88, 118, 258, 299, 311, 341, 377, 380, 438, 527, 557, 679,\n",
      "       689, 700, 716, 730, 737, 742, 779]),)\n"
     ]
    }
   ],
   "source": [
    "#2 三倍標準差方法\n",
    "def outliers_z_score(data, fold):\n",
    "    mean_data = np.mean(data)\n",
    "    stdev = np.std(data)\n",
    "    z_score = [(y - mean_data) / stdev for y in data]\n",
    "    return np.where(np.abs(z_score) > fold)\n",
    "\n",
    "out_index = outliers_z_score(df[\"Fare\"],3)\n",
    "print(out_index)"
   ]
  },
  {
   "cell_type": "code",
   "execution_count": 5,
   "metadata": {},
   "outputs": [
    {
     "name": "stdout",
     "output_type": "stream",
     "text": [
      "(array([  1,  27,  31,  34,  52,  61,  62,  72,  88, 102, 118, 120, 124,\n",
      "       139, 151, 159, 180, 195, 201, 215, 218, 224, 230, 245, 256, 257,\n",
      "       258, 262, 268, 269, 275, 290, 291, 297, 299, 305, 306, 307, 310,\n",
      "       311, 318, 319, 324, 325, 332, 334, 336, 337, 341, 366, 369, 373,\n",
      "       375, 377, 380, 385, 390, 393, 412, 435, 438, 445, 453, 484, 486,\n",
      "       496, 498, 504, 505, 520, 527, 537, 540, 544, 550, 557, 558, 581,\n",
      "       585, 587, 591, 609, 627, 641, 645, 655, 659, 660, 665, 679, 681,\n",
      "       689, 698, 700, 708, 716, 730, 737, 741, 742, 745, 759, 763, 765,\n",
      "       779, 789, 792, 802, 820, 829, 835, 846, 849, 856, 863, 879]),)\n"
     ]
    }
   ],
   "source": [
    "#3 盒鬚圖判別法\n",
    "def outliers_iqr(data, fold):\n",
    "    #注意 使用 np.percentile 要去除 nan 要不然計算出來會錯誤，\n",
    "    #所以我們採用下者的程式 np.nanpercentile\n",
    "    quartile_1, quartile_3 = np.nanpercentile(data, [25, 75])\n",
    "    iqr = quartile_3 - quartile_1\n",
    "    lower_bound = quartile_1 - (iqr * fold)\n",
    "    upper_bound = quartile_3 + (iqr * fold)\n",
    "    return np.where((data > upper_bound) | (data < lower_bound))\n",
    "\n",
    "out_index_box = outliers_iqr(df[\"Fare\"], 1.5)\n",
    "print(out_index_box)"
   ]
  },
  {
   "cell_type": "code",
   "execution_count": 6,
   "metadata": {},
   "outputs": [],
   "source": [
    "#1 \n",
    "# 從簡單統計的 boxplot 來看，票價應該是有很貴的，\n",
    "# 但有一個超過 500 和一個 0 應該是 outliers。\n",
    "# 若 mean-std會<0，所以代表貴得非常貴\n",
    "\n",
    "#2 #3\n",
    "# 從兩個結果可以看出來以票價來說三倍標準差比盒鬚圖寬鬆\n",
    "\n",
    "# 我覺得除了 0 元和超過 500 需要處理，其他應該不用"
   ]
  }
 ],
 "metadata": {
  "kernelspec": {
   "display_name": "Python 3",
   "language": "python",
   "name": "python3"
  },
  "language_info": {
   "codemirror_mode": {
    "name": "ipython",
    "version": 3
   },
   "file_extension": ".py",
   "mimetype": "text/x-python",
   "name": "python",
   "nbconvert_exporter": "python",
   "pygments_lexer": "ipython3",
   "version": "3.7.9"
  }
 },
 "nbformat": 4,
 "nbformat_minor": 4
}
