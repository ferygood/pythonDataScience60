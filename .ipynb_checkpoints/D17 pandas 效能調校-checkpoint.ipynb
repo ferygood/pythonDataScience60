{
 "cells": [
  {
   "attachments": {},
   "cell_type": "markdown",
   "metadata": {},
   "source": [
    "題目 : \n",
    "1.在速度較慢的時候，可以先從哪邊開始檢查?\n",
    "2.資料過大時應採取什麼方式讓記憶體占用量下降?"
   ]
  },
  {
   "cell_type": "markdown",
   "metadata": {},
   "source": [
    "回答：\n",
    "\n",
    "1.\n",
    "可先從資料的讀取檢查，較快的格式如 .pkl 和 .hdf，較慢的格式是 .csv 和 .xlsx\n",
    "然後盡量使用內建的函數來做計算。\n",
    "\n",
    "2. \n",
    "資料過大的時候可以將資料欄位的型態做降級，如將 int64 改成 unit16 或是 float64 改成 float32 達到減少正在使用的記憶體容量之目的。"
   ]
  }
 ],
 "metadata": {
  "kernelspec": {
   "display_name": "Python 3",
   "language": "python",
   "name": "python3"
  },
  "language_info": {
   "codemirror_mode": {
    "name": "ipython",
    "version": 3
   },
   "file_extension": ".py",
   "mimetype": "text/x-python",
   "name": "python",
   "nbconvert_exporter": "python",
   "pygments_lexer": "ipython3",
   "version": "3.7.9"
  }
 },
 "nbformat": 4,
 "nbformat_minor": 4
}
