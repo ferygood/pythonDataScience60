{
 "cells": [
  {
   "cell_type": "markdown",
   "metadata": {},
   "source": [
    "EDA Intro \n",
    "1 資料清理 \n",
    "2 變數間的相關性 \n",
    "3 特徵工程 "
   ]
  },
  {
   "cell_type": "markdown",
   "metadata": {},
   "source": [
    "今天課程中以一個案例，說明資料分析的流程與探索性分析，是否對於課程中一開始的問題，更有想法了?!\n",
    "Q1: 哪一個問題不適合用資料科學解決?\n",
    "Q2: 以你的角度來分析，為什麼這樣的問題，較不適合用資料來解決?\n",
    "將答案寫在論壇中，大家一起互相討論激盪。"
   ]
  },
  {
   "cell_type": "markdown",
   "metadata": {},
   "source": [
    "我認為挑選 Mr./Ms. Right 是三者中比較不適合用資料科學解決的問題，因為每個人挑選的對象是不同人，如果要想成分類問題的話，沒辦法像一班商品簡單分成A,B,C類型。舉例來說，一個班上如果有 30 位同學，那我們在建立類別的時候可能就會有 30 個了，如果硬要只分成 6 組，可能又不夠詳細。"
   ]
  }
 ],
 "metadata": {
  "kernelspec": {
   "display_name": "Python 3",
   "language": "python",
   "name": "python3"
  },
  "language_info": {
   "codemirror_mode": {
    "name": "ipython",
    "version": 3
   },
   "file_extension": ".py",
   "mimetype": "text/x-python",
   "name": "python",
   "nbconvert_exporter": "python",
   "pygments_lexer": "ipython3",
   "version": "3.7.9"
  }
 },
 "nbformat": 4,
 "nbformat_minor": 4
}
