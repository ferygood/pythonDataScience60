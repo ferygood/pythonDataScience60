{
 "cells": [
  {
   "cell_type": "markdown",
   "metadata": {},
   "source": [
    "作業:\n",
    "今天學到2種分配，包含，\n",
    "離散均勻分配( Discrete Uniform Distribution )\n",
    "伯努利分配( Bernoulli Distribution )\n",
    "\n",
    "今天我們透過作業中的問題，回想今天的內容吧!\n",
    "\n",
    "丟一個銅板，丟了100次，出現正面 50 次的機率有多大。\n",
    "(提示: 先想是哪一種分配，然後透過 python 語法進行計算)"
   ]
  },
  {
   "cell_type": "code",
   "execution_count": 1,
   "metadata": {},
   "outputs": [],
   "source": [
    "# 假設銅板是一枚公正銅板，只有正反面兩種可能，機率也是各 0.5，因此認為他是伯努力分配\n",
    "from scipy.stats import binom"
   ]
  },
  {
   "cell_type": "code",
   "execution_count": 2,
   "metadata": {},
   "outputs": [
    {
     "name": "stdout",
     "output_type": "stream",
     "text": [
      "0.07958923738717888\n"
     ]
    }
   ],
   "source": [
    "# quote 講義：一個伯努利過程（Bernoulli process）是由重複出現獨立但是相同分布的伯努利試驗組成，\n",
    "# 其 n 次結果總和，稱為二項分配。\n",
    "p = 0.5\n",
    "n = 100\n",
    "x = 50\n",
    "\n",
    "# 產生隨機樣本\n",
    "prob = binom.pmf(x , n ,p)\n",
    "print(prob)"
   ]
  }
 ],
 "metadata": {
  "kernelspec": {
   "display_name": "Python 3",
   "language": "python",
   "name": "python3"
  },
  "language_info": {
   "codemirror_mode": {
    "name": "ipython",
    "version": 3
   },
   "file_extension": ".py",
   "mimetype": "text/x-python",
   "name": "python",
   "nbconvert_exporter": "python",
   "pygments_lexer": "ipython3",
   "version": "3.7.9"
  }
 },
 "nbformat": 4,
 "nbformat_minor": 4
}
