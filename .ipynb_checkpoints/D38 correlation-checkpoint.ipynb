{
 "cells": [
  {
   "cell_type": "markdown",
   "metadata": {},
   "source": [
    "在鐵達尼資料集中，今天我們專注觀察變數之間的相關性，以 Titanic_train.csv 中，首先將有遺失值的數值刪除，並回答下列問題。"
   ]
  },
  {
   "cell_type": "code",
   "execution_count": 1,
   "metadata": {},
   "outputs": [],
   "source": [
    "import pandas as pd\n",
    "import pingouin as pg\n",
    "import researchpy\n",
    "import seaborn as sns\n",
    "from scipy import stats"
   ]
  },
  {
   "cell_type": "code",
   "execution_count": 2,
   "metadata": {},
   "outputs": [
    {
     "name": "stdout",
     "output_type": "stream",
     "text": [
      "    Age  Survived     Sex     Fare\n",
      "0  22.0         0    male   7.2500\n",
      "1  38.0         1  female  71.2833\n",
      "2  26.0         1  female   7.9250\n",
      "3  35.0         1  female  53.1000\n",
      "4  35.0         0    male   8.0500\n",
      "<class 'pandas.core.frame.DataFrame'>\n",
      "RangeIndex: 891 entries, 0 to 890\n",
      "Data columns (total 4 columns):\n",
      "Age         714 non-null float64\n",
      "Survived    891 non-null int64\n",
      "Sex         891 non-null object\n",
      "Fare        891 non-null float64\n",
      "dtypes: float64(2), int64(1), object(1)\n",
      "memory usage: 27.9+ KB\n",
      "None\n"
     ]
    }
   ],
   "source": [
    "df = pd.read_csv(\"titanic/Titanic_train.csv\")\n",
    "df1 = df.loc[:,[\"Age\", \"Survived\", \"Sex\", \"Fare\"]]\n",
    "print(df1.head())\n",
    "print(df1.info())"
   ]
  },
  {
   "cell_type": "code",
   "execution_count": 3,
   "metadata": {},
   "outputs": [
    {
     "name": "stdout",
     "output_type": "stream",
     "text": [
      "<class 'pandas.core.frame.DataFrame'>\n",
      "RangeIndex: 891 entries, 0 to 890\n",
      "Data columns (total 4 columns):\n",
      "Age         714 non-null float64\n",
      "Survived    891 non-null object\n",
      "Sex         891 non-null object\n",
      "Fare        891 non-null float64\n",
      "dtypes: float64(2), object(2)\n",
      "memory usage: 27.9+ KB\n"
     ]
    }
   ],
   "source": [
    "# 將 survived 轉成離散型變數\n",
    "df1[\"Survived\"] = df1[\"Survived\"].astype(\"object\")\n",
    "df1.info()"
   ]
  },
  {
   "cell_type": "code",
   "execution_count": 4,
   "metadata": {},
   "outputs": [
    {
     "name": "stdout",
     "output_type": "stream",
     "text": [
      "     Source             SS   DF          MS         F     p-unc       np2\n",
      "0  Survived     897.187582    1  897.187582  4.271195  0.039125  0.005963\n",
      "1    Within  149559.448362  712  210.055405       NaN       NaN       NaN\n",
      "0.0059630974469252\n"
     ]
    }
   ],
   "source": [
    "#Q1 透過數值法計算Age和Survived是否有相關性？\n",
    "# Age: 連續型; Survived: 離散型。決定用 Eta Squared\n",
    "\n",
    "df2 = df1[[\"Age\", \"Survived\"]].dropna() #刪除缺失值\n",
    "\n",
    "aov = pg.anova(dv='Age', between='Survived', \n",
    "               data=df2, detailed=True)\n",
    "print(aov)\n",
    "\n",
    "etaSq = aov.SS[0] / (aov.SS[0] + aov.SS[1])\n",
    "print(etaSq)"
   ]
  },
  {
   "cell_type": "code",
   "execution_count": 5,
   "metadata": {},
   "outputs": [
    {
     "name": "stdout",
     "output_type": "stream",
     "text": [
      "Negligible\n"
     ]
    }
   ],
   "source": [
    "def judgement_etaSq(etaSq):\n",
    "    if etaSq < .01:\n",
    "        qual = \"Negligible\"\n",
    "    elif etaSq < .06:\n",
    "        qual = \"Small\"\n",
    "    elif etaSq < .14:\n",
    "        qual = \"Medium\"\n",
    "    else:\n",
    "        qual = \"Large\"\n",
    "    return(qual)\n",
    "print(judgement_etaSq(etaSq))"
   ]
  },
  {
   "cell_type": "code",
   "execution_count": 6,
   "metadata": {},
   "outputs": [
    {
     "data": {
      "image/png": "[encoded data removed]",
      "text/plain": [
       "<Figure size 360x360 with 1 Axes>"
      ]
     },
     "metadata": {
      "needs_background": "light"
     },
     "output_type": "display_data"
    }
   ],
   "source": [
    "g = sns.catplot(x=\"Survived\", y=\"Age\", hue=\"Survived\",\n",
    "               data=df2, kind=\"violin\")\n",
    "#從 etaSq 和小提琴圖可以知道 survived 和 age 沒有相關性，\n",
    "#我們需要思考是否要將這個放入模型，或是做特徵轉換"
   ]
  },
  {
   "cell_type": "code",
   "execution_count": 7,
   "metadata": {},
   "outputs": [
    {
     "name": "stdout",
     "output_type": "stream",
     "text": [
      "Survived    0    1\n",
      "Sex               \n",
      "female     81  233\n",
      "male      468  109\n",
      "自由度 1\n",
      "                Chi-square test   results\n",
      "0  Pearson Chi-square ( 1.0) =   263.0506\n",
      "1                    p-value =     0.0000\n",
      "2               Cramer's phi =     0.5434\n",
      "Cramer's value is 0.5434\n"
     ]
    }
   ],
   "source": [
    "#Q2 透過數值法計算Sex和Survived是否有相關性？\n",
    "# 離散對離散，決定使用 Cramér's V\n",
    "contTable = pd.crosstab(df1[\"Sex\"], df1[\"Survived\"])\n",
    "print(contTable)\n",
    "\n",
    "#計算自由度\n",
    "df_cont = min(contTable.shape[0], contTable.shape[1]) - 1\n",
    "print(\"自由度 {}\".format(df_cont))\n",
    "\n",
    "#卡方檢定\n",
    "crosstab, res = researchpy.crosstab(df1[\"Survived\"], \n",
    "                                    df1[\"Sex\"], test=\"chi-square\")\n",
    "print(res)\n",
    "print(\"Cramer's value is\", res.loc[2, \"results\"])"
   ]
  },
  {
   "cell_type": "code",
   "execution_count": 8,
   "metadata": {},
   "outputs": [
    {
     "data": {
      "text/plain": [
       "'large'"
      ]
     },
     "execution_count": 8,
     "metadata": {},
     "output_type": "execute_result"
    }
   ],
   "source": [
    "# 寫一個副程式判斷相關性的強度\n",
    "def judgment_CramerV(df,V):\n",
    "    if df == 1:\n",
    "        if V < 0.10:\n",
    "            qual = 'negligible'\n",
    "        elif V < 0.30:\n",
    "            qual = 'small'\n",
    "        elif V < 0.50:\n",
    "            qual = 'medium'\n",
    "        else:\n",
    "            qual = 'large'\n",
    "    elif df == 2:\n",
    "        if V < 0.07:\n",
    "            qual = 'negligible'\n",
    "        elif V < 0.21:\n",
    "            qual = 'small'\n",
    "        elif V < 0.35:\n",
    "            qual = 'medium'\n",
    "        else:\n",
    "            qual = 'large'\n",
    "    elif df == 3:\n",
    "        if V < 0.06:\n",
    "            qual = 'negligible'\n",
    "        elif V < 0.17:\n",
    "            qual = 'small'\n",
    "        elif V < 0.29:\n",
    "            qual = 'medium'\n",
    "        else:\n",
    "            qual = 'large'\n",
    "    elif df == 4:\n",
    "        if V < 0.05:\n",
    "            qual = 'negligible'\n",
    "        elif V < 0.15:\n",
    "            qual = 'small'\n",
    "        elif V < 0.25:\n",
    "            qual = 'medium'\n",
    "        else:\n",
    "            qual = 'large'\n",
    "    else:\n",
    "        if V < 0.05:\n",
    "            qual = 'negligible'\n",
    "        elif V < 0.13:\n",
    "            qual = 'small'\n",
    "        elif V < 0.22:\n",
    "            qual = 'medium'\n",
    "        else:\n",
    "            qual = 'large'\n",
    "    return(qual)\n",
    "\n",
    "judgment_CramerV(df_cont,res.loc[2,'results'])"
   ]
  },
  {
   "cell_type": "code",
   "execution_count": 9,
   "metadata": {},
   "outputs": [
    {
     "data": {
      "image/png": "[encoded data removed]",
      "text/plain": [
       "<Figure size 432x288 with 1 Axes>"
      ]
     },
     "metadata": {
      "needs_background": "light"
     },
     "output_type": "display_data"
    }
   ],
   "source": [
    "g = sns.countplot(x=\"Sex\", hue=\"Survived\", data=df1)\n",
    "# 從 CramerV 和 圖形的判斷可以知道性別和存活有高度相關系，\n",
    "# 所以要預測存活率會需要性別"
   ]
  },
  {
   "cell_type": "code",
   "execution_count": 10,
   "metadata": {},
   "outputs": [
    {
     "name": "stdout",
     "output_type": "stream",
     "text": [
      "0.0960666917690389\n"
     ]
    }
   ],
   "source": [
    "#Q3 透過數值法計算Age和Fare是否有相關性？\n",
    "# 連續對連續\n",
    "df3 = df1[[\"Age\", \"Fare\"]].dropna()\n",
    "df3.head()\n",
    "\n",
    "# 用 pearson correlation, 只要第一個回傳結果\n",
    "corr, _ = stats.pearsonr(df3[\"Age\"], df3[\"Fare\"])\n",
    "print(corr)"
   ]
  },
  {
   "cell_type": "code",
   "execution_count": 11,
   "metadata": {},
   "outputs": [
    {
     "data": {
      "image/png": "[encoded data removed]",
      "text/plain": [
       "<Figure size 432x288 with 1 Axes>"
      ]
     },
     "metadata": {
      "needs_background": "light"
     },
     "output_type": "display_data"
    }
   ],
   "source": [
    "g = sns.regplot(x=\"Age\", y=\"Fare\", color=\"g\", data=df3)\n",
    "# 年紀和票價並沒有被觀察到線性關係，Pearson 相關係數也很小 0.09"
   ]
  }
 ],
 "metadata": {
  "kernelspec": {
   "display_name": "Python 3",
   "language": "python",
   "name": "python3"
  },
  "language_info": {
   "codemirror_mode": {
    "name": "ipython",
    "version": 3
   },
   "file_extension": ".py",
   "mimetype": "text/x-python",
   "name": "python",
   "nbconvert_exporter": "python",
   "pygments_lexer": "ipython3",
   "version": "3.7.9"
  }
 },
 "nbformat": 4,
 "nbformat_minor": 4
}
