{
 "cells": [
  {
   "cell_type": "markdown",
   "metadata": {},
   "source": [
    "作業:\n",
    "今天學到 AB test中假設檢定的基本概念，最重要的就是如何將抽象情況數值化， 並建立自已的 H0 與 H1。透過作業來好好練習，概念懂了，後面幾堂課再帶大家運用 python 進行運算。"
   ]
  },
  {
   "cell_type": "markdown",
   "metadata": {},
   "source": [
    "Q1: 吃減肥藥能在一個月內瘦超過十公斤，研究人員想推翻第四台廣告業者的說法，請試著寫出 H0 和 H1。 \n",
    "\n",
    "A1:  \n",
    "H0:吃減肥藥可以在一個月內瘦 10 公斤  \n",
    "H1:吃減肥藥無法在一個月內瘦 10 公斤 "
   ]
  },
  {
   "cell_type": "markdown",
   "metadata": {},
   "source": [
    "Q2:一位速食店店長認為其品牌在市場之佔有率至多為 12%，於是該店長進行一個市場調查，一共訪問了 3000 為消費者，其中有 311 位表示喜歡該品牌，請試著寫出 H0 與 H1。  \n",
    "\n",
    "A1: \n",
    "H0:市場消費者喜歡該品牌的最多 12% \n",
    "H1:市場消費者喜歡該品牌的超過 12%"
   ]
  },
  {
   "cell_type": "code",
   "execution_count": 1,
   "metadata": {},
   "outputs": [
    {
     "name": "stdout",
     "output_type": "stream",
     "text": [
      "0.10366666666666667\n"
     ]
    }
   ],
   "source": [
    "print(311/3000)"
   ]
  }
 ],
 "metadata": {
  "kernelspec": {
   "display_name": "Python 3",
   "language": "python",
   "name": "python3"
  },
  "language_info": {
   "codemirror_mode": {
    "name": "ipython",
    "version": 3
   },
   "file_extension": ".py",
   "mimetype": "text/x-python",
   "name": "python",
   "nbconvert_exporter": "python",
   "pygments_lexer": "ipython3",
   "version": "3.7.9"
  }
 },
 "nbformat": 4,
 "nbformat_minor": 4
}
