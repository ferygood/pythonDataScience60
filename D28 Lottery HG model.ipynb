{
 "cells": [
  {
   "cell_type": "markdown",
   "metadata": {},
   "source": [
    "作業:\n",
    "今天學到五種分配，包含，\n",
    "離散均勻分配( Discrete Uniform Distribution )\n",
    "伯努利分配( Bernoulli Distribution )\n",
    "二項分配(Binomial Distribution)\n",
    "負二項分配(Negative Binomial Distribution)\n",
    "超幾何分配(Hypergeometric Distribution)\n",
    "今天我們透過作業中的問題，回想今天的內容吧!"
   ]
  },
  {
   "cell_type": "code",
   "execution_count": 4,
   "metadata": {},
   "outputs": [
    {
     "data": {
      "text/plain": [
       "0.6"
      ]
     },
     "execution_count": 4,
     "metadata": {},
     "output_type": "execute_result"
    }
   ],
   "source": [
    "#Q1: 大樂透的頭獎，你必須從49個挑選出 6 個號碼，\n",
    "#且這六個號碼與頭獎的六個號碼一致，頭獎的機率是屬於哪一種分配?\n",
    "\n",
    "#Ans:\n",
    "#我認為大樂透是 Hypergeometric Distribution\n",
    "#我們關心的是中獎的六個號碼，以及抽出的六個號碼的機率"
   ]
  },
  {
   "cell_type": "code",
   "execution_count": 7,
   "metadata": {},
   "outputs": [
    {
     "name": "stdout",
     "output_type": "stream",
     "text": [
      "大樂透中頭獎的機率為 7.151123842018523e-08\n"
     ]
    }
   ],
   "source": [
    "#Q2: 運用範例的 python 程式碼，計算大樂透的中頭獎機率\n",
    "from scipy import stats\n",
    "# k=6 抽六次的試驗都要抽中我們想要的號碼\n",
    "# M=49, 母群體有 49 個號碼\n",
    "# N=6 有六個樣本是我們有興趣的\n",
    "# n=6 試驗抽六次\n",
    "\n",
    "prob = stats.hypergeom.pmf(k=6, M=49, n=6, N=6)\n",
    "\n",
    "print(\"大樂透中頭獎的機率為 {}\".format(prob))"
   ]
  },
  {
   "cell_type": "code",
   "execution_count": null,
   "metadata": {},
   "outputs": [],
   "source": [
    "#Q3: 你覺得電腦牽著的中獎機率，和人腦簽注相比，哪一個機率高？\n",
    "#ans: 理論上機率是一樣高"
   ]
  }
 ],
 "metadata": {
  "kernelspec": {
   "display_name": "Python 3",
   "language": "python",
   "name": "python3"
  },
  "language_info": {
   "codemirror_mode": {
    "name": "ipython",
    "version": 3
   },
   "file_extension": ".py",
   "mimetype": "text/x-python",
   "name": "python",
   "nbconvert_exporter": "python",
   "pygments_lexer": "ipython3",
   "version": "3.7.9"
  }
 },
 "nbformat": 4,
 "nbformat_minor": 4
}
